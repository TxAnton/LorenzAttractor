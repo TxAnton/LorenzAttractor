{
 "cells": [
  {
   "cell_type": "code",
   "execution_count": 1,
   "metadata": {},
   "outputs": [],
   "source": [
    "# Исследование ошибки по эталону."
   ]
  },
  {
   "cell_type": "code",
   "execution_count": 2,
   "metadata": {},
   "outputs": [],
   "source": [
    "# Шаг 1 - зависимости\n",
    "import attractor\n",
    "from attractor import Attractor, compare\n",
    "import matplotlib.pyplot as plt\n",
    "import numpy as np\n",
    "import copy"
   ]
  },
  {
   "cell_type": "code",
   "execution_count": 3,
   "metadata": {},
   "outputs": [],
   "source": [
    "del compare"
   ]
  },
  {
   "cell_type": "code",
   "execution_count": 4,
   "metadata": {},
   "outputs": [],
   "source": [
    "from attractor import compare"
   ]
  },
  {
   "cell_type": "code",
   "execution_count": 5,
   "metadata": {},
   "outputs": [],
   "source": [
    "# Шаг 2 - функция возвращающая примую найденную методом наименьших квадратов\n",
    "# Роль ошибки играет коэф наклона m (Далее он называется K). Инвариант должен быть неизменен, потому в теории K == 0. Это позволяет рассматривать эксперементальное K != 0 как значение ошибки\n",
    "def lse(dots):\n",
    "    x = dots[1]\n",
    "    y = dots[0]\n",
    "    A = np.vstack([x, np.ones(len(x))]).T\n",
    "    m, c = np.linalg.lstsq(A, y, rcond=None)[0]\n",
    "    return m,c\n"
   ]
  },
  {
   "cell_type": "code",
   "execution_count": 6,
   "metadata": {},
   "outputs": [],
   "source": [
    "# РАБОТА С ЭТАЛОНОМ"
   ]
  },
  {
   "cell_type": "code",
   "execution_count": 338,
   "metadata": {},
   "outputs": [
    {
     "name": "stdout",
     "output_type": "stream",
     "text": [
      "999999\n"
     ]
    }
   ],
   "source": [
    "# Параметры эталона и другие \n",
    "diff_arr = [[],[]] # Массив точек\n",
    "inv = 5 #  Номер инварианта для оценки метода. В работе используется 5\n",
    "eth_method = 'ABM5'  # Исследуемый метод. В работе выбран метод ABM5\n",
    "rg = 10.0  # Расстояние, на котором производится исследование. Его увеличение пропорционально увеличит время.\n",
    "eth_step = 0.00001\n",
    "eth_num_steps = int(rg/eth_step)\n",
    "print(eth_num_steps)"
   ]
  },
  {
   "cell_type": "code",
   "execution_count": 9,
   "metadata": {},
   "outputs": [
    {
     "name": "stdout",
     "output_type": "stream",
     "text": [
      "123456789\n",
      "calls_f:  18999936\n"
     ]
    }
   ],
   "source": [
    "# Расчет по эталону\n",
    "eth_AL1 = Attractor(step=eth_step, num_steps=eth_num_steps)\n",
    "eth_AL1.set_invariant_params(inv)\n",
    "eth_AL1.iterator_method(eth_method)\n",
    "eth_calls = eth_AL1.get_counter()\n",
    "print(\"calls_f: \", eth_calls)\n",
    "eth_dots = eth_AL1.getDots()"
   ]
  },
  {
   "cell_type": "code",
   "execution_count": 10,
   "metadata": {},
   "outputs": [
    {
     "name": "stdout",
     "output_type": "stream",
     "text": [
      "(4, 333334)\n"
     ]
    }
   ],
   "source": [
    "# Cut thirds\n",
    "l = int(eth_dots.shape[1] * (1.0 / 3.0))\n",
    "eth_dots = eth_dots[:, l:-l]\n",
    "print(eth_dots.shape)"
   ]
  },
  {
   "cell_type": "code",
   "execution_count": 11,
   "metadata": {},
   "outputs": [],
   "source": [
    "# РАБОТА С СРАВНИМВАЕМЫМ"
   ]
  },
  {
   "cell_type": "code",
   "execution_count": 339,
   "metadata": {},
   "outputs": [],
   "source": [
    "# methods = [\"EUL1\",\"MIDP2\", \"RK4\", \"AB4\", \"AM4\", \"ABM5\"]\n",
    "method = 'ABM5'  # Исследуемый метод"
   ]
  },
  {
   "cell_type": "code",
   "execution_count": 371,
   "metadata": {},
   "outputs": [
    {
     "name": "stdout",
     "output_type": "stream",
     "text": [
      "0.0033333333333333335\n"
     ]
    }
   ],
   "source": [
    "# Параметры исследуемого метода\n",
    "num_steps = 3000\n",
    "# step = 0.0001\n",
    "# num_steps = int(rg/step)\n",
    "step = rg/num_steps\n",
    "print(step)\n"
   ]
  },
  {
   "cell_type": "code",
   "execution_count": 372,
   "metadata": {},
   "outputs": [
    {
     "name": "stdout",
     "output_type": "stream",
     "text": [
      "123456789\n",
      "calls_f:  56955\n"
     ]
    }
   ],
   "source": [
    "# Расчет по исследуемому методу\n",
    "cmp_AL1 = Attractor(step=step, num_steps=num_steps)\n",
    "cmp_AL1.set_invariant_params(inv)\n",
    "cmp_AL1.iterator_method(method)\n",
    "cmp_calls = cmp_AL1.get_counter()\n",
    "print(\"calls_f: \", cmp_calls)\n",
    "cmp_dots = cmp_AL1.getDots()"
   ]
  },
  {
   "cell_type": "code",
   "execution_count": 373,
   "metadata": {},
   "outputs": [
    {
     "name": "stdout",
     "output_type": "stream",
     "text": [
      "(4, 1001)\n"
     ]
    }
   ],
   "source": [
    "# Cut thirds\n",
    "l = int(cmp_dots.shape[1] * (1.0 / 3.0))\n",
    "cmp_dots = cmp_dots[:, l:-l]\n",
    "print(cmp_dots.shape)"
   ]
  },
  {
   "cell_type": "code",
   "execution_count": 374,
   "metadata": {},
   "outputs": [],
   "source": [
    "err = compare(eth_dots,cmp_dots, adopt_time_scale = True)"
   ]
  },
  {
   "cell_type": "code",
   "execution_count": 375,
   "metadata": {},
   "outputs": [
    {
     "name": "stdout",
     "output_type": "stream",
     "text": [
      "(2, 600)\n"
     ]
    }
   ],
   "source": [
    "# Err cut fifths\n",
    "l = int(err.shape[1] * (1.0 / 5.0))\n",
    "err = err[:, l:-l]\n",
    "print(err.shape)"
   ]
  },
  {
   "cell_type": "code",
   "execution_count": 376,
   "metadata": {},
   "outputs": [
    {
     "name": "stdout",
     "output_type": "stream",
     "text": [
      "56955\n",
      "3.861987146432024e-10\n"
     ]
    }
   ],
   "source": [
    "M = np.mean(err[0])\n",
    "print(cmp_calls)\n",
    "print(M)"
   ]
  },
  {
   "cell_type": "code",
   "execution_count": 377,
   "metadata": {},
   "outputs": [],
   "source": [
    "diff_arr[0].append(cmp_calls)\n",
    "diff_arr[1].append(M)"
   ]
  },
  {
   "cell_type": "code",
   "execution_count": 378,
   "metadata": {},
   "outputs": [
    {
     "name": "stdout",
     "output_type": "stream",
     "text": [
      "[18955, 28455, 37955, 47455, 56955]\n",
      "[9.799667415074947e-08, 1.2775862335754605e-08, 3.014832235657804e-09, 9.826406895326632e-10, 3.861987146432024e-10]\n"
     ]
    },
    {
     "data": {
      "text/plain": [
       "[<matplotlib.lines.Line2D at 0x7f888abf53a0>]"
      ]
     },
     "execution_count": 378,
     "metadata": {},
     "output_type": "execute_result"
    },
    {
     "data": {
      "image/png": "[encoded data removed]",
      "text/plain": [
       "<Figure size 432x288 with 1 Axes>"
      ]
     },
     "metadata": {
      "needs_background": "light"
     },
     "output_type": "display_data"
    }
   ],
   "source": [
    "print(diff_arr[0])\n",
    "print(diff_arr[1])\n",
    "plt.xlabel(\"cmp_calls\")\n",
    "plt.ylabel(\"log10(M)\")\n",
    "plt.plot(np.abs(diff_arr[0]),np.log10(np.abs(diff_arr[1])))"
   ]
  },
  {
   "cell_type": "code",
   "execution_count": 57,
   "metadata": {},
   "outputs": [
    {
     "name": "stdout",
     "output_type": "stream",
     "text": [
      "[2.54990045e-09 2.54987304e-09 2.54984577e-09 ... 8.88311288e-11\n",
      " 8.88275468e-11 8.88238386e-11]\n",
      "[3.99999 4.      4.00001 ... 5.99998 5.99999 6.     ]\n"
     ]
    },
    {
     "data": {
      "text/plain": [
       "[<matplotlib.lines.Line2D at 0x7fb39fc8d1f0>]"
      ]
     },
     "execution_count": 57,
     "metadata": {},
     "output_type": "execute_result"
    },
    {
     "data": {
      "image/png": "[encoded data removed]",
      "text/plain": [
       "<Figure size 432x288 with 1 Axes>"
      ]
     },
     "metadata": {
      "needs_background": "light"
     },
     "output_type": "display_data"
    }
   ],
   "source": [
    "print(err[0])\n",
    "print(err[1])\n",
    "plt.xlabel(\"t\")\n",
    "plt.ylabel(\"err\")\n",
    "plt.plot(err[1],err[0])"
   ]
  },
  {
   "cell_type": "code",
   "execution_count": 62,
   "metadata": {},
   "outputs": [],
   "source": [
    "\n",
    "arr[0].append(step)\n",
    "arr[1].append(K)"
   ]
  },
  {
   "cell_type": "code",
   "execution_count": null,
   "metadata": {},
   "outputs": [],
   "source": [
    "\n"
   ]
  },
  {
   "cell_type": "code",
   "execution_count": null,
   "metadata": {},
   "outputs": [],
   "source": [
    "\n",
    "\n",
    "\n"
   ]
  },
  {
   "cell_type": "code",
   "execution_count": 16,
   "metadata": {},
   "outputs": [
    {
     "ename": "SyntaxError",
     "evalue": "invalid syntax (<ipython-input-16-412383e43e1d>, line 1)",
     "output_type": "error",
     "traceback": [
      "\u001b[0;36m  File \u001b[0;32m\"<ipython-input-16-412383e43e1d>\"\u001b[0;36m, line \u001b[0;32m1\u001b[0m\n\u001b[0;31m    throw Exeption()\u001b[0m\n\u001b[0m          ^\u001b[0m\n\u001b[0;31mSyntaxError\u001b[0m\u001b[0;31m:\u001b[0m invalid syntax\n"
     ]
    }
   ],
   "source": [
    "throw Exeption()\n",
    "# __arr1 = copy.deepcopy(arr)"
   ]
  },
  {
   "cell_type": "code",
   "execution_count": null,
   "metadata": {},
   "outputs": [],
   "source": [
    "# Шаг 5 - Расчет\n",
    "eth_AL1 = Attractor(step=step, num_steps=num_steps)\n",
    "eth_AL1.set_invariant_params(inv)\n",
    "eth_AL1.iterator_method(method)\n",
    "eth_calls = AL1.get_counter()\n",
    "print(\"calls_f: \", calls)\n",
    "\n",
    "# Get inv func\n",
    "I, err = AL1.get_invariant_err(inv, dt=0.000001)\n",
    "\n",
    "# Cut thirds\n",
    "l = int(I.shape[1] * (1.0 / 3.0))\n",
    "I = I[:, l:-l]\n",
    "err = err[:, l:-l]\n",
    "txt = f'{method}@{inv}#{calls}'\n",
    "\n",
    "M = np.mean(I[0])\n",
    "D = np.std(I[0] - M)\n",
    "K, C = lse(I)\n",
    "\n",
    "# arr[0].append(step)\n",
    "# arr[1].append(K)\n",
    "print(step)\n",
    "print(K)"
   ]
  },
  {
   "cell_type": "code",
   "execution_count": 69,
   "metadata": {},
   "outputs": [
    {
     "name": "stdout",
     "output_type": "stream",
     "text": [
      "[0.1, 0.01, 0.001, 0.0001, 1e-05, 1e-06]\n",
      "[4.856410520041255, 0.0001469092709565499, 1.6073182163714313e-09, 4.078104183139979e-12, -7.947776087557896e-13, 6.239155613013155e-11]\n"
     ]
    },
    {
     "data": {
      "text/plain": [
       "[<matplotlib.lines.Line2D at 0x7f56772b87c0>]"
      ]
     },
     "execution_count": 69,
     "metadata": {},
     "output_type": "execute_result"
    },
    {
     "data": {
      "image/png": "[encoded data removed]",
      "text/plain": [
       "<Figure size 432x288 with 1 Axes>"
      ]
     },
     "metadata": {
      "needs_background": "light"
     },
     "output_type": "display_data"
    }
   ],
   "source": [
    "# Шаг7 - Построения графика ошибки от размера шага. При слишком маленьком шаге произойдет численное насыщение и ошибка начнет расти\n",
    "print(arr[0])\n",
    "print(arr[1])\n",
    "plt.xlabel(\"-log10(step)\")\n",
    "plt.ylabel(\"log10(K)\")\n",
    "plt.plot(-np.log10(np.abs(arr[0])),np.log10(np.abs(arr[1])))"
   ]
  }
 ],
 "metadata": {
  "kernelspec": {
   "display_name": "NN_conda",
   "language": "python",
   "name": "nn_conda"
  },
  "language_info": {
   "codemirror_mode": {
    "name": "ipython",
    "version": 3
   },
   "file_extension": ".py",
   "mimetype": "text/x-python",
   "name": "python",
   "nbconvert_exporter": "python",
   "pygments_lexer": "ipython3",
   "version": "3.8.8"
  }
 },
 "nbformat": 4,
 "nbformat_minor": 4
}
