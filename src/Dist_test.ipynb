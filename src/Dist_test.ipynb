{
 "cells": [
  {
   "cell_type": "code",
   "execution_count": 1,
   "metadata": {},
   "outputs": [],
   "source": [
    "# Исследование ошибки по эталону."
   ]
  },
  {
   "cell_type": "code",
   "execution_count": 2,
   "metadata": {},
   "outputs": [],
   "source": [
    "# Шаг 1 - зависимости\n",
    "import attractor\n",
    "from attractor import Attractor, compare\n",
    "import matplotlib.pyplot as plt\n",
    "import numpy as np\n",
    "import copy"
   ]
  },
  {
   "cell_type": "code",
   "execution_count": 3,
   "metadata": {},
   "outputs": [],
   "source": [
    "# Шаг 2 - функция возвращающая примую найденную методом наименьших квадратов\n",
    "# Роль ошибки играет коэф наклона m (Далее он называется K). Инвариант должен быть неизменен, потому в теории K == 0. Это позволяет рассматривать эксперементальное K != 0 как значение ошибки\n",
    "def lse(points):\n",
    "    x = points[1]\n",
    "    y = points[0]\n",
    "    A = np.vstack([x, np.ones(len(x))]).T\n",
    "    m, c = np.linalg.lstsq(A, y, rcond=None)[0]\n",
    "    return m,c\n"
   ]
  },
  {
   "cell_type": "code",
   "execution_count": 4,
   "metadata": {},
   "outputs": [],
   "source": [
    "# РАБОТА С ЭТАЛОНОМ"
   ]
  },
  {
   "cell_type": "code",
   "execution_count": 134,
   "metadata": {},
   "outputs": [
    {
     "name": "stdout",
     "output_type": "stream",
     "text": [
      "999999\n"
     ]
    }
   ],
   "source": [
    "# Шаг 3 - Параметры эталона и другие \n",
    "diff_arr = [[],[]] # Массив точек\n",
    "inv = 5 #  Номер инварианта для оценки метода. В работе используется 5\n",
    "eth_method = 'ABM5'  # Исследуемый метод. В работе выбран метод ABM5\n",
    "rg = 10.0  # Расстояние, на котором производится исследование. Его увеличение пропорционально увеличит время.\n",
    "eth_step = 0.00001\n",
    "eth_num_steps = int(rg/eth_step)\n",
    "print(eth_num_steps)"
   ]
  },
  {
   "cell_type": "code",
   "execution_count": 6,
   "metadata": {},
   "outputs": [
    {
     "name": "stdout",
     "output_type": "stream",
     "text": [
      "123456789\n",
      "calls_f:  23999916\n"
     ]
    }
   ],
   "source": [
    "# Шаг 4 - Расчет по эталону\n",
    "eth_AL1 = Attractor(step=eth_step, num_steps=eth_num_steps)\n",
    "eth_AL1.set_invariant_params(inv)\n",
    "eth_AL1.call_method(eth_method)\n",
    "eth_calls = eth_AL1.get_counter()\n",
    "print(\"calls_f: \", eth_calls)\n",
    "eth_points = eth_AL1.getPoints()"
   ]
  },
  {
   "cell_type": "code",
   "execution_count": 7,
   "metadata": {},
   "outputs": [
    {
     "name": "stdout",
     "output_type": "stream",
     "text": [
      "(4, 333334)\n"
     ]
    }
   ],
   "source": [
    "# Шаг 5 - Обрезаем трети с концов эталона\n",
    "l = int(eth_points.shape[1] * (1.0 / 3.0))\n",
    "eth_points = eth_points[:, l:-l]\n",
    "print(eth_points.shape)"
   ]
  },
  {
   "cell_type": "code",
   "execution_count": 8,
   "metadata": {},
   "outputs": [],
   "source": [
    "# РАБОТА С СРАВНИМВАЕМЫМ"
   ]
  },
  {
   "cell_type": "code",
   "execution_count": 135,
   "metadata": {},
   "outputs": [],
   "source": [
    "# Шаг 5 - выбор исследуемого метода\n",
    "# methods = [\"EUL1\",\"MIDP2\", \"RK4\", \"AB4\", \"AM4\", \"ABM5\"]\n",
    "method = 'RK4'  # Исследуемый метод"
   ]
  },
  {
   "cell_type": "code",
   "execution_count": 158,
   "metadata": {},
   "outputs": [
    {
     "name": "stdout",
     "output_type": "stream",
     "text": [
      "0.002173913043478261\n"
     ]
    }
   ],
   "source": [
    "# Шаг 6 - Параметры исследуемого метода\n",
    "num_steps = 4600\n",
    "# step = 0.0001\n",
    "# num_steps = int(rg/step)\n",
    "step = rg/num_steps\n",
    "print(step)\n"
   ]
  },
  {
   "cell_type": "code",
   "execution_count": 159,
   "metadata": {},
   "outputs": [
    {
     "name": "stdout",
     "output_type": "stream",
     "text": [
      "0123456789\n",
      "calls_f:  18400\n"
     ]
    }
   ],
   "source": [
    "# Шаг 7 - Расчет по исследуемому методу\n",
    "cmp_AL1 = Attractor(step=step, num_steps=num_steps)\n",
    "cmp_AL1.set_invariant_params(inv)\n",
    "cmp_AL1.call_method(method)\n",
    "cmp_calls = cmp_AL1.get_counter()\n",
    "print(\"calls_f: \", cmp_calls)\n",
    "cmp_points = cmp_AL1.getPoints()"
   ]
  },
  {
   "cell_type": "code",
   "execution_count": 160,
   "metadata": {},
   "outputs": [
    {
     "name": "stdout",
     "output_type": "stream",
     "text": [
      "(4, 1535)\n"
     ]
    }
   ],
   "source": [
    "# Шаг 8 - Обрезаем трети с концов исслдуемого отрезка\n",
    "l = int(cmp_points.shape[1] * (1.0 / 3.0))\n",
    "cmp_points = cmp_points[:, l:-l]\n",
    "print(cmp_points.shape)"
   ]
  },
  {
   "cell_type": "code",
   "execution_count": 161,
   "metadata": {},
   "outputs": [],
   "source": [
    "# Шаг 9 - Считаем разницу между эталоном и исследуемым методом\n",
    "# Если у исследуемого метода шагов меньше следует взять его временную шкалу (adopt_time_scale = True), хотя е принципиально\n",
    "err = compare(eth_points,cmp_points, adopt_time_scale = True)"
   ]
  },
  {
   "cell_type": "code",
   "execution_count": 162,
   "metadata": {},
   "outputs": [
    {
     "name": "stdout",
     "output_type": "stream",
     "text": [
      "(2, 921)\n"
     ]
    }
   ],
   "source": [
    "# Шаг 9 - Обрезаем пятые части с концов точек ошибки\n",
    "l = int(err.shape[1] * (1.0 / 5.0))\n",
    "err = err[:, l:-l]\n",
    "print(err.shape)"
   ]
  },
  {
   "cell_type": "code",
   "execution_count": 163,
   "metadata": {},
   "outputs": [
    {
     "name": "stdout",
     "output_type": "stream",
     "text": [
      "18400\n",
      "9.41312784892431e-10\n",
      "-9.02626604269248\n"
     ]
    }
   ],
   "source": [
    "# Шаг 9 - Параметры ошибки\n",
    "M = np.mean(err[0])\n",
    "print(cmp_calls)\n",
    "print(M)\n",
    "print(np.log10(M))"
   ]
  },
  {
   "cell_type": "code",
   "execution_count": 164,
   "metadata": {},
   "outputs": [],
   "source": [
    "# Шаг 10 - Добавляем новую точку\n",
    "diff_arr[0].append(cmp_calls)\n",
    "diff_arr[1].append(M)"
   ]
  },
  {
   "cell_type": "code",
   "execution_count": 165,
   "metadata": {},
   "outputs": [],
   "source": [
    "# Повторить шаги 5-10 пока не наберется достаточно точек"
   ]
  },
  {
   "cell_type": "code",
   "execution_count": 166,
   "metadata": {},
   "outputs": [
    {
     "name": "stdout",
     "output_type": "stream",
     "text": [
      "[14000, 16000, 18000, 18400]\n",
      "[2.802755600938152e-09, 1.6360773016769809e-09, 1.0282412019831423e-09, 9.41312784892431e-10]\n"
     ]
    },
    {
     "data": {
      "text/plain": [
       "[<matplotlib.lines.Line2D at 0x7f7fe70d6f10>]"
      ]
     },
     "execution_count": 166,
     "metadata": {},
     "output_type": "execute_result"
    },
    {
     "data": {
      "image/png": "[encoded data removed]",
      "text/plain": [
       "<Figure size 432x288 with 1 Axes>"
      ]
     },
     "metadata": {
      "needs_background": "light"
     },
     "output_type": "display_data"
    }
   ],
   "source": [
    "# Вывод графика\n",
    "\n",
    "print(diff_arr[0])\n",
    "print(diff_arr[1])\n",
    "plt.xlabel(\"cmp_calls\")\n",
    "plt.ylabel(\"log10(M)\")\n",
    "plt.plot(np.abs(diff_arr[0]),np.log10(np.abs(diff_arr[1])))"
   ]
  },
  {
   "cell_type": "code",
   "execution_count": null,
   "metadata": {},
   "outputs": [],
   "source": [
    "# plt.xlabel(\"t\")\n",
    "# plt.ylabel(\"err\")\n",
    "# plt.plot(err[1],err[0],lw=0.5)"
   ]
  },
  {
   "cell_type": "code",
   "execution_count": null,
   "metadata": {},
   "outputs": [],
   "source": [
    "diff_arr"
   ]
  },
  {
   "cell_type": "code",
   "execution_count": null,
   "metadata": {},
   "outputs": [],
   "source": []
  }
 ],
 "metadata": {
  "kernelspec": {
   "display_name": "NN_conda",
   "language": "python",
   "name": "nn_conda"
  },
  "language_info": {
   "codemirror_mode": {
    "name": "ipython",
    "version": 3
   },
   "file_extension": ".py",
   "mimetype": "text/x-python",
   "name": "python",
   "nbconvert_exporter": "python",
   "pygments_lexer": "ipython3",
   "version": "3.8.8"
  }
 },
 "nbformat": 4,
 "nbformat_minor": 4
}
