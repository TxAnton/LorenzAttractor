{
 "cells": [
  {
   "cell_type": "code",
   "execution_count": null,
   "metadata": {},
   "outputs": [],
   "source": [
    "# Исследование ошибки. Поиск численного насыщения"
   ]
  },
  {
   "cell_type": "code",
   "execution_count": 1,
   "metadata": {},
   "outputs": [],
   "source": [
    "# Шаг 1 - зависимости\n",
    "import attractor\n",
    "from attractor import Attractor\n",
    "import matplotlib.pyplot as plt\n",
    "import numpy as np\n",
    "import copy"
   ]
  },
  {
   "cell_type": "code",
   "execution_count": 2,
   "metadata": {},
   "outputs": [],
   "source": [
    "# Шаг 2 - функция возвращающая примую найденную методом наименьших квадратов\n",
    "# Роль ошибки играет коэф наклона m (Далее он называется K). Инвариант должен быть неизменен, потому в теории K == 0. Это позволяет рассматривать эксперементальное K != 0 как значение ошибки\n",
    "def lse(dots):\n",
    "    x = dots[1]\n",
    "    y = dots[0]\n",
    "    A = np.vstack([x, np.ones(len(x))]).T\n",
    "    m, c = np.linalg.lstsq(A, y, rcond=None)[0]\n",
    "    return m,c\n"
   ]
  },
  {
   "cell_type": "code",
   "execution_count": 5,
   "metadata": {},
   "outputs": [
    {
     "name": "stdout",
     "output_type": "stream",
     "text": [
      "1000000\n"
     ]
    }
   ],
   "source": [
    "# Шаг 3 - Инициализация параметров для эксперимента\n",
    "arr = [[],[]] # Массив точек\n",
    "inv = 5 #  Номер инварианта для оценки метода. В работе используется 5\n",
    "method = 'ABM5'  # Исследуемый метод. В работе выбран метод ABM5\n",
    "rg = 1.0  # Расстояние, на котором производится иссдледование. Его увеличение пропорционально увеличит время.\n",
    "# eth_step = 0.00001"
   ]
  },
  {
   "cell_type": "code",
   "execution_count": null,
   "metadata": {},
   "outputs": [],
   "source": [
    "# "
   ]
  },
  {
   "cell_type": "code",
   "execution_count": null,
   "metadata": {},
   "outputs": [],
   "source": [
    "# Шаг 4 - Выставьте шаг для итерации исседования\n",
    "step = 0.0001\n",
    "num_steps = int(rg/step)\n",
    "print(num_steps)"
   ]
  },
  {
   "cell_type": "code",
   "execution_count": 71,
   "metadata": {},
   "outputs": [
    {
     "name": "stdout",
     "output_type": "stream",
     "text": [
      "123456789\n",
      "calls_f:  1899936\n",
      "1e-05\n",
      "-7.947776087557896e-13\n"
     ]
    }
   ],
   "source": [
    "# Шаг 5 - Расчет\n",
    "AL1 = Attractor(step=step, num_steps=num_steps)\n",
    "AL1.set_invariant_params(inv)\n",
    "AL1.iterator_method(method)\n",
    "calls = AL1.get_counter()\n",
    "print(\"calls_f: \", calls)\n",
    "\n",
    "# Get inv func\n",
    "I, err = AL1.get_invariant_err(inv, dt=0.000001)\n",
    "\n",
    "# Cut thirds\n",
    "l = int(I.shape[1] * (1.0 / 3.0))\n",
    "I = I[:, l:-l]\n",
    "err = err[:, l:-l]\n",
    "txt = f'{method}@{inv}#{calls}'\n",
    "\n",
    "M = np.mean(I[0])\n",
    "D = np.std(I[0] - M)\n",
    "K, C = lse(I)\n",
    "\n",
    "# arr[0].append(step)\n",
    "# arr[1].append(K)\n",
    "print(step)\n",
    "print(K)"
   ]
  },
  {
   "cell_type": "code",
   "execution_count": 62,
   "metadata": {},
   "outputs": [],
   "source": [
    "# Шаг 6 - Добавление точки (шаг, ошибка) в массив. \n",
    "arr[0].append(step)\n",
    "arr[1].append(K)"
   ]
  },
  {
   "cell_type": "code",
   "execution_count": null,
   "metadata": {},
   "outputs": [],
   "source": [
    "# Выполняйте шаги 4-6 с разными шагами, пока не накопится достаточно точек для анализа"
   ]
  },
  {
   "cell_type": "code",
   "execution_count": 67,
   "metadata": {},
   "outputs": [],
   "source": [
    "# __arr1 = copy.deepcopy(arr)"
   ]
  },
  {
   "cell_type": "code",
   "execution_count": 69,
   "metadata": {},
   "outputs": [
    {
     "name": "stdout",
     "output_type": "stream",
     "text": [
      "[0.1, 0.01, 0.001, 0.0001, 1e-05, 1e-06]\n",
      "[4.856410520041255, 0.0001469092709565499, 1.6073182163714313e-09, 4.078104183139979e-12, -7.947776087557896e-13, 6.239155613013155e-11]\n"
     ]
    },
    {
     "data": {
      "text/plain": [
       "[<matplotlib.lines.Line2D at 0x7f56772b87c0>]"
      ]
     },
     "execution_count": 69,
     "metadata": {},
     "output_type": "execute_result"
    },
    {
     "data": {
      "image/png": "[encoded data removed]",
      "text/plain": [
       "<Figure size 432x288 with 1 Axes>"
      ]
     },
     "metadata": {
      "needs_background": "light"
     },
     "output_type": "display_data"
    }
   ],
   "source": [
    "# Шаг7 - Построения графика ошибки от размера шага\n",
    "print(arr[0])\n",
    "print(arr[1])\n",
    "plt.xlabel(\"-log10(step)\")\n",
    "plt.ylabel(\"log10(K)\")\n",
    "plt.plot(-np.log10(np.abs(arr[0])),np.log10(np.abs(arr[1])))"
   ]
  },
  {
   "cell_type": "code",
   "execution_count": 72,
   "metadata": {},
   "outputs": [
    {
     "name": "stdout",
     "output_type": "stream",
     "text": [
      "[4.856410520041255, 0.0001469092709565499, 1.6073182163714313e-09, 4.078104183139979e-12, -7.947776087557896e-13, 6.239155613013155e-11]\n"
     ]
    },
    {
     "name": "stderr",
     "output_type": "stream",
     "text": [
      "<ipython-input-72-22e6af25adc6>:2: RuntimeWarning: invalid value encountered in log10\n",
      "  np.log10(arr[1])\n"
     ]
    },
    {
     "data": {
      "text/plain": [
       "array([  0.68631539,  -3.8329508 ,  -8.79389813, -11.38954168,\n",
       "                nan, -10.20487418])"
      ]
     },
     "execution_count": 72,
     "metadata": {},
     "output_type": "execute_result"
    }
   ],
   "source": []
  },
  {
   "cell_type": "code",
   "execution_count": 1,
   "metadata": {},
   "outputs": [
    {
     "ename": "NameError",
     "evalue": "name 'Exeption' is not defined",
     "output_type": "error",
     "traceback": [
      "\u001b[0;31m---------------------------------------------------------------------------\u001b[0m",
      "\u001b[0;31mNameError\u001b[0m                                 Traceback (most recent call last)",
      "\u001b[0;32m<ipython-input-1-01b2ac940b29>\u001b[0m in \u001b[0;36m<module>\u001b[0;34m\u001b[0m\n\u001b[0;32m----> 1\u001b[0;31m \u001b[0;32mraise\u001b[0m \u001b[0mExeption\u001b[0m\u001b[0;34m(\u001b[0m\u001b[0;34m\"\"\u001b[0m\u001b[0;34m)\u001b[0m\u001b[0;34m\u001b[0m\u001b[0;34m\u001b[0m\u001b[0m\n\u001b[0m",
      "\u001b[0;31mNameError\u001b[0m: name 'Exeption' is not defined"
     ]
    }
   ],
   "source": [
    "raise Exeption(\"\")"
   ]
  },
  {
   "cell_type": "code",
   "execution_count": 4,
   "metadata": {},
   "outputs": [
    {
     "name": "stdout",
     "output_type": "stream",
     "text": [
      "Вызовов f:  2000000\n"
     ]
    }
   ],
   "source": [
    "AL1 = Attractor(step=0.0000001, num_steps=1000000)\n",
    "AL1.set_invariant_params(inv)\n",
    "AL1.iterator_method(\"MIDP2\")\n",
    "print(\"Вызовов f: \", AL1.get_counter())"
   ]
  },
  {
   "cell_type": "code",
   "execution_count": 5,
   "metadata": {},
   "outputs": [],
   "source": [
    "I,err = AL1.get_invariant_err(inv, dt = 0.000001)"
   ]
  },
  {
   "cell_type": "code",
   "execution_count": 6,
   "metadata": {},
   "outputs": [
    {
     "data": {
      "text/plain": [
       "(2, 1000000)"
      ]
     },
     "execution_count": 6,
     "metadata": {},
     "output_type": "execute_result"
    }
   ],
   "source": [
    "I.shape"
   ]
  },
  {
   "cell_type": "code",
   "execution_count": 7,
   "metadata": {},
   "outputs": [
    {
     "name": "stdout",
     "output_type": "stream",
     "text": [
      "(2, 333334)\n",
      "(2, 333333)\n"
     ]
    }
   ],
   "source": [
    "# Cut noise\n",
    "k = 1.0/3\n",
    "l = int(I.shape[1] * (1.0/3.0))\n",
    "I = I[:,l:-l]\n",
    "err = err[:,l:-l]\n",
    "# I = I[:,:I.shape[1]//2] # Half points\n",
    "print(I.shape)\n",
    "print(err.shape)"
   ]
  },
  {
   "cell_type": "code",
   "execution_count": 8,
   "metadata": {},
   "outputs": [],
   "source": [
    "dots = AL1.getDots()"
   ]
  },
  {
   "cell_type": "code",
   "execution_count": 9,
   "metadata": {},
   "outputs": [
    {
     "data": {
      "text/plain": [
       "(4, 1000001)"
      ]
     },
     "execution_count": 9,
     "metadata": {},
     "output_type": "execute_result"
    }
   ],
   "source": [
    "m = dots\n",
    "m.shape"
   ]
  },
  {
   "cell_type": "code",
   "execution_count": 10,
   "metadata": {},
   "outputs": [],
   "source": [
    "# dt = 0.000001\n",
    "\n",
    "# m1 = m[:,:-1]\n",
    "# m2 = np.vstack([m[:3, :-1],m[3, :-1]+dt])\n",
    "\n",
    "# print(m1.shape)\n",
    "# print(m2.shape)"
   ]
  },
  {
   "cell_type": "code",
   "execution_count": 11,
   "metadata": {},
   "outputs": [],
   "source": [
    "# (m1[3]-m2[3])"
   ]
  },
  {
   "cell_type": "code",
   "execution_count": 12,
   "metadata": {},
   "outputs": [],
   "source": [
    "# err"
   ]
  },
  {
   "cell_type": "code",
   "execution_count": 13,
   "metadata": {},
   "outputs": [
    {
     "data": {
      "text/plain": [
       "[<matplotlib.lines.Line2D at 0x7f6e60b396a0>]"
      ]
     },
     "execution_count": 13,
     "metadata": {},
     "output_type": "execute_result"
    },
    {
     "data": {
      "image/png": "[encoded data removed]",
      "text/plain": [
       "<Figure size 432x288 with 1 Axes>"
      ]
     },
     "metadata": {
      "needs_background": "light"
     },
     "output_type": "display_data"
    }
   ],
   "source": [
    "plt.plot(I[1],I[0])"
   ]
  },
  {
   "cell_type": "code",
   "execution_count": 14,
   "metadata": {},
   "outputs": [
    {
     "name": "stdout",
     "output_type": "stream",
     "text": [
      "I:\n",
      "M = 112.39999999999938\n",
      "D = 9.309487505846372e-13\n",
      "K = 2.929653182326727e-11\n",
      "C = 112.3999999999979\n"
     ]
    }
   ],
   "source": [
    "M = np.mean(I[0])\n",
    "D = np.std(I[0]-M)\n",
    "K,C = lse(I)\n",
    "print(\"I:\")\n",
    "print(\"M =\",M)\n",
    "print(\"D =\",D)\n",
    "print(\"K =\",K)\n",
    "print(\"C =\",C)"
   ]
  },
  {
   "cell_type": "code",
   "execution_count": 15,
   "metadata": {},
   "outputs": [],
   "source": [
    "# plt.plot(err[1],err[0])"
   ]
  },
  {
   "cell_type": "code",
   "execution_count": 16,
   "metadata": {},
   "outputs": [],
   "source": [
    "# M = np.mean(err[0])\n",
    "# D = np.std(err[0]-M)\n",
    "# print(\"err:\")\n",
    "# print(\"M =\",M)\n",
    "# print(\"D =\",D)\n",
    "\n",
    "# # AL1.show(\"img/Euler.png\", \"Euler method\", True)\n"
   ]
  },
  {
   "cell_type": "code",
   "execution_count": 17,
   "metadata": {},
   "outputs": [
    {
     "data": {
      "text/plain": [
       "(2, 333333)"
      ]
     },
     "execution_count": 17,
     "metadata": {},
     "output_type": "execute_result"
    }
   ],
   "source": [
    "err.shape"
   ]
  }
 ],
 "metadata": {
  "kernelspec": {
   "display_name": "NN_conda",
   "language": "python",
   "name": "nn_conda"
  },
  "language_info": {
   "codemirror_mode": {
    "name": "ipython",
    "version": 3
   },
   "file_extension": ".py",
   "mimetype": "text/x-python",
   "name": "python",
   "nbconvert_exporter": "python",
   "pygments_lexer": "ipython3",
   "version": "3.8.8"
  }
 },
 "nbformat": 4,
 "nbformat_minor": 4
}
